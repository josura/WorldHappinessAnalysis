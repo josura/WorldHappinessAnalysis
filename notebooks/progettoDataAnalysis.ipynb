{
 "cells": [
  {
   "cell_type": "markdown",
   "metadata": {
    "id": "93-hQY_Xm2Uz"
   },
   "source": [
    "# Analisi sulla felicità"
   ]
  },
  {
   "cell_type": "markdown",
   "metadata": {
    "id": "e1BW0QypnMre"
   },
   "source": [
    "## Contesto"
   ]
  },
  {
   "cell_type": "markdown",
   "metadata": {
    "id": "U4-YTJpNnE53"
   },
   "source": [
    "## Richieste e Obiettivi"
   ]
  },
  {
   "cell_type": "markdown",
   "metadata": {},
   "source": [
    "## Raccolta dei dati"
   ]
  },
  {
   "cell_type": "markdown",
   "metadata": {},
   "source": [
    "I dati utilizzati sono stati presi in [world happyness](https://www.kaggle.com/unsdsn/world-happiness), in [suicide rates](https://ourworldindata.org/suicide).\n",
    "Durante la pulizia iniziale dei dati sono state sistemate delle informazioni riguardanti dati non esistenti ed alcuni errori di conversione, sono state sistemate le etichette per facilitare i vari merge tra dataset provenienti da sorgenti diverse, che avevano bisogno di una correzione leggera."
   ]
  },
  {
   "cell_type": "markdown",
   "metadata": {},
   "source": [
    "## Esplorazione dei dati"
   ]
  },
  {
   "cell_type": "code",
   "execution_count": 11,
   "metadata": {
    "id": "0yui3KuaUxXt"
   },
   "outputs": [],
   "source": [
    "import pandas as pd"
   ]
  },
  {
   "cell_type": "code",
   "execution_count": 62,
   "metadata": {},
   "outputs": [],
   "source": [
    "import seaborn as sns"
   ]
  },
  {
   "cell_type": "code",
   "execution_count": 12,
   "metadata": {
    "id": "5-pyeSEMXte6"
   },
   "outputs": [],
   "source": [
    "dataset = pd.read_csv(\"dati/worldHappyness/2015.csv\")"
   ]
  },
  {
   "cell_type": "code",
   "execution_count": 70,
   "metadata": {},
   "outputs": [
    {
     "name": "stdout",
     "output_type": "stream",
     "text": [
      "<class 'pandas.core.frame.DataFrame'>\n",
      "RangeIndex: 158 entries, 0 to 157\n",
      "Data columns (total 13 columns):\n",
      " #   Column             Non-Null Count  Dtype  \n",
      "---  ------             --------------  -----  \n",
      " 0   Country            158 non-null    object \n",
      " 1   Region             158 non-null    object \n",
      " 2   rank               158 non-null    int64  \n",
      " 3   Score              158 non-null    float64\n",
      " 4   Standard_Error     158 non-null    float64\n",
      " 5   GDP                158 non-null    float64\n",
      " 6   Family             158 non-null    float64\n",
      " 7   life_expectancy    158 non-null    float64\n",
      " 8   FreedomOflife      158 non-null    float64\n",
      " 9   corruption         158 non-null    float64\n",
      " 10  Generosity         158 non-null    float64\n",
      " 11  Dystopia_Residual  158 non-null    float64\n",
      " 12  year               158 non-null    int64  \n",
      "dtypes: float64(9), int64(2), object(2)\n",
      "memory usage: 16.2+ KB\n"
     ]
    }
   ],
   "source": [
    "dataset.info()"
   ]
  },
  {
   "cell_type": "code",
   "execution_count": 65,
   "metadata": {},
   "outputs": [
    {
     "data": {
      "text/plain": [
       "Country              158\n",
       "Region               158\n",
       "rank                 158\n",
       "Score                158\n",
       "Standard_Error       158\n",
       "GDP                  158\n",
       "Family               158\n",
       "life_expectancy      158\n",
       "FreedomOflife        158\n",
       "corruption           158\n",
       "Generosity           158\n",
       "Dystopia_Residual    158\n",
       "year                 158\n",
       "dtype: int64"
      ]
     },
     "execution_count": 65,
     "metadata": {},
     "output_type": "execute_result"
    }
   ],
   "source": [
    "dataset.count()"
   ]
  },
  {
   "cell_type": "code",
   "execution_count": 47,
   "metadata": {
    "id": "5-pyeSEMXte6"
   },
   "outputs": [],
   "source": [
    "suicides = pd.read_csv(\"dati/worldHappyness/suicidecorretti.csv\")"
   ]
  },
  {
   "cell_type": "code",
   "execution_count": 74,
   "metadata": {},
   "outputs": [],
   "source": [
    "suicides = suicides.drop(\"Code\",1)"
   ]
  },
  {
   "cell_type": "code",
   "execution_count": 75,
   "metadata": {},
   "outputs": [
    {
     "name": "stdout",
     "output_type": "stream",
     "text": [
      "<class 'pandas.core.frame.DataFrame'>\n",
      "RangeIndex: 1132 entries, 0 to 1131\n",
      "Data columns (total 3 columns):\n",
      " #   Column                 Non-Null Count  Dtype  \n",
      "---  ------                 --------------  -----  \n",
      " 0   Country                1132 non-null   object \n",
      " 1   year                   1132 non-null   int64  \n",
      " 2   Age-standardized-Rate  1132 non-null   float64\n",
      "dtypes: float64(1), int64(1), object(1)\n",
      "memory usage: 26.7+ KB\n"
     ]
    }
   ],
   "source": [
    "suicides.info()"
   ]
  },
  {
   "cell_type": "code",
   "execution_count": 3,
   "metadata": {
    "id": "XdZRXQrvX0aR"
   },
   "outputs": [],
   "source": [
    "import matplotlib.pyplot as plt"
   ]
  },
  {
   "cell_type": "code",
   "execution_count": 57,
   "metadata": {
    "id": "wNU-xKHSs13a"
   },
   "outputs": [
    {
     "data": {
      "text/html": [
       "<div>\n",
       "<style scoped>\n",
       "    .dataframe tbody tr th:only-of-type {\n",
       "        vertical-align: middle;\n",
       "    }\n",
       "\n",
       "    .dataframe tbody tr th {\n",
       "        vertical-align: top;\n",
       "    }\n",
       "\n",
       "    .dataframe thead th {\n",
       "        text-align: right;\n",
       "    }\n",
       "</style>\n",
       "<table border=\"1\" class=\"dataframe\">\n",
       "  <thead>\n",
       "    <tr style=\"text-align: right;\">\n",
       "      <th></th>\n",
       "      <th>Country</th>\n",
       "      <th>Region</th>\n",
       "      <th>rank</th>\n",
       "      <th>Score</th>\n",
       "      <th>Standard_Error</th>\n",
       "      <th>GDP</th>\n",
       "      <th>Family</th>\n",
       "      <th>life_expectancy</th>\n",
       "      <th>FreedomOflife</th>\n",
       "      <th>corruption</th>\n",
       "      <th>Generosity</th>\n",
       "      <th>Dystopia_Residual</th>\n",
       "      <th>year</th>\n",
       "    </tr>\n",
       "  </thead>\n",
       "  <tbody>\n",
       "    <tr>\n",
       "      <th>0</th>\n",
       "      <td>Switzerland</td>\n",
       "      <td>Western Europe</td>\n",
       "      <td>1</td>\n",
       "      <td>7.587</td>\n",
       "      <td>0.03411</td>\n",
       "      <td>1.39651</td>\n",
       "      <td>1.34951</td>\n",
       "      <td>0.94143</td>\n",
       "      <td>0.66557</td>\n",
       "      <td>0.41978</td>\n",
       "      <td>0.29678</td>\n",
       "      <td>2.51738</td>\n",
       "      <td>2015</td>\n",
       "    </tr>\n",
       "    <tr>\n",
       "      <th>1</th>\n",
       "      <td>Iceland</td>\n",
       "      <td>Western Europe</td>\n",
       "      <td>2</td>\n",
       "      <td>7.561</td>\n",
       "      <td>0.04884</td>\n",
       "      <td>1.30232</td>\n",
       "      <td>1.40223</td>\n",
       "      <td>0.94784</td>\n",
       "      <td>0.62877</td>\n",
       "      <td>0.14145</td>\n",
       "      <td>0.43630</td>\n",
       "      <td>2.70201</td>\n",
       "      <td>2015</td>\n",
       "    </tr>\n",
       "    <tr>\n",
       "      <th>2</th>\n",
       "      <td>Denmark</td>\n",
       "      <td>Western Europe</td>\n",
       "      <td>3</td>\n",
       "      <td>7.527</td>\n",
       "      <td>0.03328</td>\n",
       "      <td>1.32548</td>\n",
       "      <td>1.36058</td>\n",
       "      <td>0.87464</td>\n",
       "      <td>0.64938</td>\n",
       "      <td>0.48357</td>\n",
       "      <td>0.34139</td>\n",
       "      <td>2.49204</td>\n",
       "      <td>2015</td>\n",
       "    </tr>\n",
       "    <tr>\n",
       "      <th>3</th>\n",
       "      <td>Norway</td>\n",
       "      <td>Western Europe</td>\n",
       "      <td>4</td>\n",
       "      <td>7.522</td>\n",
       "      <td>0.03880</td>\n",
       "      <td>1.45900</td>\n",
       "      <td>1.33095</td>\n",
       "      <td>0.88521</td>\n",
       "      <td>0.66973</td>\n",
       "      <td>0.36503</td>\n",
       "      <td>0.34699</td>\n",
       "      <td>2.46531</td>\n",
       "      <td>2015</td>\n",
       "    </tr>\n",
       "    <tr>\n",
       "      <th>4</th>\n",
       "      <td>Canada</td>\n",
       "      <td>North America</td>\n",
       "      <td>5</td>\n",
       "      <td>7.427</td>\n",
       "      <td>0.03553</td>\n",
       "      <td>1.32629</td>\n",
       "      <td>1.32261</td>\n",
       "      <td>0.90563</td>\n",
       "      <td>0.63297</td>\n",
       "      <td>0.32957</td>\n",
       "      <td>0.45811</td>\n",
       "      <td>2.45176</td>\n",
       "      <td>2015</td>\n",
       "    </tr>\n",
       "  </tbody>\n",
       "</table>\n",
       "</div>"
      ],
      "text/plain": [
       "       Country          Region  rank  Score  Standard_Error      GDP   Family  \\\n",
       "0  Switzerland  Western Europe     1  7.587         0.03411  1.39651  1.34951   \n",
       "1      Iceland  Western Europe     2  7.561         0.04884  1.30232  1.40223   \n",
       "2      Denmark  Western Europe     3  7.527         0.03328  1.32548  1.36058   \n",
       "3       Norway  Western Europe     4  7.522         0.03880  1.45900  1.33095   \n",
       "4       Canada   North America     5  7.427         0.03553  1.32629  1.32261   \n",
       "\n",
       "   life_expectancy  FreedomOflife  corruption  Generosity  Dystopia_Residual  \\\n",
       "0          0.94143        0.66557     0.41978     0.29678            2.51738   \n",
       "1          0.94784        0.62877     0.14145     0.43630            2.70201   \n",
       "2          0.87464        0.64938     0.48357     0.34139            2.49204   \n",
       "3          0.88521        0.66973     0.36503     0.34699            2.46531   \n",
       "4          0.90563        0.63297     0.32957     0.45811            2.45176   \n",
       "\n",
       "   year  \n",
       "0  2015  \n",
       "1  2015  \n",
       "2  2015  \n",
       "3  2015  \n",
       "4  2015  "
      ]
     },
     "execution_count": 57,
     "metadata": {},
     "output_type": "execute_result"
    }
   ],
   "source": [
    "dataset.head()"
   ]
  },
  {
   "cell_type": "code",
   "execution_count": 77,
   "metadata": {},
   "outputs": [
    {
     "data": {
      "text/plain": [
       "Country       Region                       rank  Score  Standard_Error  GDP      Family   life_expectancy  FreedomOflife  corruption  Generosity  Dystopia_Residual  year\n",
       "Zimbabwe      Sub-Saharan Africa           115   4.610  0.04290         0.27100  1.03276  0.33475          0.25861        0.08079     0.18987     2.44191            2015    1\n",
       "Germany       Western Europe               26    6.750  0.01848         1.32792  1.29937  0.89186          0.61477        0.21843     0.28214     2.11569            2015    1\n",
       "Hong Kong     Eastern Asia                 72    5.474  0.05051         1.38604  1.05818  1.01328          0.59608        0.37124     0.39478     0.65429            2015    1\n",
       "Honduras      Latin America and Caribbean  105   4.788  0.05648         0.59532  0.95348  0.69510          0.40148        0.06825     0.23027     1.84408            2015    1\n",
       "Haiti         Latin America and Caribbean  119   4.518  0.07331         0.26673  0.74302  0.38847          0.24425        0.17175     0.46187     2.24173            2015    1\n",
       "                                                                                                                                                                            ..\n",
       "North Cyprus  Western Europe               66    5.695  0.05635         1.20806  1.07008  0.92356          0.49027        0.14280     0.26169     1.59888            2015    1\n",
       "Nigeria       Sub-Saharan Africa           78    5.268  0.04192         0.65435  0.90432  0.16007          0.34334        0.04030     0.27233     2.89319            2015    1\n",
       "Niger         Sub-Saharan Africa           144   3.845  0.03602         0.06940  0.77265  0.29707          0.47692        0.15639     0.19387     1.87877            2015    1\n",
       "Nicaragua     Latin America and Caribbean  57    5.828  0.05371         0.59325  1.14184  0.74314          0.55475        0.19317     0.27815     2.32407            2015    1\n",
       "Afghanistan   Southern Asia                153   3.575  0.03084         0.31982  0.30285  0.30335          0.23414        0.09719     0.36510     1.95210            2015    1\n",
       "Length: 158, dtype: int64"
      ]
     },
     "execution_count": 77,
     "metadata": {},
     "output_type": "execute_result"
    }
   ],
   "source": [
    "dataset.value_counts()"
   ]
  },
  {
   "cell_type": "code",
   "execution_count": 59,
   "metadata": {},
   "outputs": [
    {
     "data": {
      "text/plain": [
       "(array([ 3., 10., 13., 25., 28., 12., 26., 14., 12., 15.]),\n",
       " array([2.839 , 3.3138, 3.7886, 4.2634, 4.7382, 5.213 , 5.6878, 6.1626,\n",
       "        6.6374, 7.1122, 7.587 ]),\n",
       " <BarContainer object of 10 artists>)"
      ]
     },
     "execution_count": 59,
     "metadata": {},
     "output_type": "execute_result"
    },
    {
     "data": {
      "image/png": "[encoded data removed]",
      "text/plain": [
       "<Figure size 432x288 with 1 Axes>"
      ]
     },
     "metadata": {
      "needs_background": "light"
     },
     "output_type": "display_data"
    }
   ],
   "source": [
    "plt.hist(dataset[\"Score\"])"
   ]
  },
  {
   "cell_type": "code",
   "execution_count": 64,
   "metadata": {},
   "outputs": [
    {
     "data": {
      "text/plain": [
       "<AxesSubplot:xlabel='Score', ylabel='Density'>"
      ]
     },
     "execution_count": 64,
     "metadata": {},
     "output_type": "execute_result"
    },
    {
     "data": {
      "image/png": "[encoded data removed]",
      "text/plain": [
       "<Figure size 432x288 with 1 Axes>"
      ]
     },
     "metadata": {
      "needs_background": "light"
     },
     "output_type": "display_data"
    }
   ],
   "source": [
    "sns.kdeplot(dataset['Score'])"
   ]
  },
  {
   "cell_type": "code",
   "execution_count": 67,
   "metadata": {},
   "outputs": [
    {
     "data": {
      "text/html": [
       "<div>\n",
       "<style scoped>\n",
       "    .dataframe tbody tr th:only-of-type {\n",
       "        vertical-align: middle;\n",
       "    }\n",
       "\n",
       "    .dataframe tbody tr th {\n",
       "        vertical-align: top;\n",
       "    }\n",
       "\n",
       "    .dataframe thead th {\n",
       "        text-align: right;\n",
       "    }\n",
       "</style>\n",
       "<table border=\"1\" class=\"dataframe\">\n",
       "  <thead>\n",
       "    <tr style=\"text-align: right;\">\n",
       "      <th></th>\n",
       "      <th>Country</th>\n",
       "      <th>Code</th>\n",
       "      <th>year</th>\n",
       "      <th>Age-standardized-Rate</th>\n",
       "    </tr>\n",
       "  </thead>\n",
       "  <tbody>\n",
       "    <tr>\n",
       "      <th>0</th>\n",
       "      <td>Afghanistan</td>\n",
       "      <td>AFG</td>\n",
       "      <td>2015</td>\n",
       "      <td>9.447661</td>\n",
       "    </tr>\n",
       "    <tr>\n",
       "      <th>1</th>\n",
       "      <td>Afghanistan</td>\n",
       "      <td>AFG</td>\n",
       "      <td>2016</td>\n",
       "      <td>9.346731</td>\n",
       "    </tr>\n",
       "    <tr>\n",
       "      <th>2</th>\n",
       "      <td>Afghanistan</td>\n",
       "      <td>AFG</td>\n",
       "      <td>2017</td>\n",
       "      <td>9.319114</td>\n",
       "    </tr>\n",
       "    <tr>\n",
       "      <th>3</th>\n",
       "      <td>Afghanistan</td>\n",
       "      <td>AFG</td>\n",
       "      <td>2018</td>\n",
       "      <td>9.251600</td>\n",
       "    </tr>\n",
       "    <tr>\n",
       "      <th>4</th>\n",
       "      <td>Afghanistan</td>\n",
       "      <td>AFG</td>\n",
       "      <td>2019</td>\n",
       "      <td>9.251600</td>\n",
       "    </tr>\n",
       "  </tbody>\n",
       "</table>\n",
       "</div>"
      ],
      "text/plain": [
       "       Country Code  year  Age-standardized-Rate\n",
       "0  Afghanistan  AFG  2015               9.447661\n",
       "1  Afghanistan  AFG  2016               9.346731\n",
       "2  Afghanistan  AFG  2017               9.319114\n",
       "3  Afghanistan  AFG  2018               9.251600\n",
       "4  Afghanistan  AFG  2019               9.251600"
      ]
     },
     "execution_count": 67,
     "metadata": {},
     "output_type": "execute_result"
    }
   ],
   "source": [
    "suicides.head()"
   ]
  },
  {
   "cell_type": "code",
   "execution_count": 76,
   "metadata": {},
   "outputs": [
    {
     "data": {
      "text/plain": [
       "Country                  1132\n",
       "year                     1132\n",
       "Age-standardized-Rate    1132\n",
       "dtype: int64"
      ]
     },
     "execution_count": 76,
     "metadata": {},
     "output_type": "execute_result"
    }
   ],
   "source": [
    "suicides.count()"
   ]
  },
  {
   "cell_type": "code",
   "execution_count": 79,
   "metadata": {},
   "outputs": [
    {
     "data": {
      "text/plain": [
       "2019    231\n",
       "2015    231\n",
       "2018    226\n",
       "2017    222\n",
       "2016    222\n",
       "Name: year, dtype: int64"
      ]
     },
     "execution_count": 79,
     "metadata": {},
     "output_type": "execute_result"
    }
   ],
   "source": [
    "suicides[\"year\"].value_counts()"
   ]
  },
  {
   "cell_type": "code",
   "execution_count": 50,
   "metadata": {},
   "outputs": [],
   "source": [
    "suicides2015 = suicides[suicides[\"year\"]==2015].dropna().drop_duplicates(subset = \"Country\")"
   ]
  },
  {
   "cell_type": "markdown",
   "metadata": {},
   "source": [
    "E' stato utilizzato drop_duplicates sull'attributo **Country** per l'eliminazione di possibili ripetizioni in base allo stato, dato che parti del dataset dei suicidi sono sullo stesso stato ma "
   ]
  },
  {
   "cell_type": "code",
   "execution_count": 51,
   "metadata": {
    "id": "5-pyeSEMXte6"
   },
   "outputs": [],
   "source": [
    "suicides2015[\"index\"] = range(1, len(suicides2015) + 1)"
   ]
  },
  {
   "cell_type": "code",
   "execution_count": 52,
   "metadata": {
    "id": "5-pyeSEMXte6"
   },
   "outputs": [
    {
     "data": {
      "text/html": [
       "<div>\n",
       "<style scoped>\n",
       "    .dataframe tbody tr th:only-of-type {\n",
       "        vertical-align: middle;\n",
       "    }\n",
       "\n",
       "    .dataframe tbody tr th {\n",
       "        vertical-align: top;\n",
       "    }\n",
       "\n",
       "    .dataframe thead th {\n",
       "        text-align: right;\n",
       "    }\n",
       "</style>\n",
       "<table border=\"1\" class=\"dataframe\">\n",
       "  <thead>\n",
       "    <tr style=\"text-align: right;\">\n",
       "      <th></th>\n",
       "      <th>Country</th>\n",
       "      <th>Code</th>\n",
       "      <th>year</th>\n",
       "      <th>Age-standardized-Rate</th>\n",
       "      <th>index</th>\n",
       "    </tr>\n",
       "  </thead>\n",
       "  <tbody>\n",
       "    <tr>\n",
       "      <th>0</th>\n",
       "      <td>Afghanistan</td>\n",
       "      <td>AFG</td>\n",
       "      <td>2015</td>\n",
       "      <td>9.447661</td>\n",
       "      <td>1</td>\n",
       "    </tr>\n",
       "    <tr>\n",
       "      <th>5</th>\n",
       "      <td>Albania</td>\n",
       "      <td>ALB</td>\n",
       "      <td>2015</td>\n",
       "      <td>5.196816</td>\n",
       "      <td>2</td>\n",
       "    </tr>\n",
       "    <tr>\n",
       "      <th>10</th>\n",
       "      <td>Algeria</td>\n",
       "      <td>DZA</td>\n",
       "      <td>2015</td>\n",
       "      <td>4.349270</td>\n",
       "      <td>3</td>\n",
       "    </tr>\n",
       "    <tr>\n",
       "      <th>14</th>\n",
       "      <td>American Samoa</td>\n",
       "      <td>ASM</td>\n",
       "      <td>2015</td>\n",
       "      <td>6.663811</td>\n",
       "      <td>4</td>\n",
       "    </tr>\n",
       "    <tr>\n",
       "      <th>24</th>\n",
       "      <td>Andorra</td>\n",
       "      <td>AND</td>\n",
       "      <td>2015</td>\n",
       "      <td>8.290929</td>\n",
       "      <td>5</td>\n",
       "    </tr>\n",
       "  </tbody>\n",
       "</table>\n",
       "</div>"
      ],
      "text/plain": [
       "           Country Code  year  Age-standardized-Rate  index\n",
       "0      Afghanistan  AFG  2015               9.447661      1\n",
       "5          Albania  ALB  2015               5.196816      2\n",
       "10         Algeria  DZA  2015               4.349270      3\n",
       "14  American Samoa  ASM  2015               6.663811      4\n",
       "24         Andorra  AND  2015               8.290929      5"
      ]
     },
     "execution_count": 52,
     "metadata": {},
     "output_type": "execute_result"
    }
   ],
   "source": [
    "suicides2015.head()"
   ]
  },
  {
   "cell_type": "code",
   "execution_count": 53,
   "metadata": {},
   "outputs": [],
   "source": [
    "full2015 = pd.merge(dataset, suicides2015, on=[\"year\",\"Country\"])"
   ]
  },
  {
   "cell_type": "code",
   "execution_count": 54,
   "metadata": {},
   "outputs": [
    {
     "data": {
      "text/html": [
       "<div>\n",
       "<style scoped>\n",
       "    .dataframe tbody tr th:only-of-type {\n",
       "        vertical-align: middle;\n",
       "    }\n",
       "\n",
       "    .dataframe tbody tr th {\n",
       "        vertical-align: top;\n",
       "    }\n",
       "\n",
       "    .dataframe thead th {\n",
       "        text-align: right;\n",
       "    }\n",
       "</style>\n",
       "<table border=\"1\" class=\"dataframe\">\n",
       "  <thead>\n",
       "    <tr style=\"text-align: right;\">\n",
       "      <th></th>\n",
       "      <th>Country</th>\n",
       "      <th>Region</th>\n",
       "      <th>rank</th>\n",
       "      <th>Score</th>\n",
       "      <th>Standard_Error</th>\n",
       "      <th>GDP</th>\n",
       "      <th>Family</th>\n",
       "      <th>life_expectancy</th>\n",
       "      <th>FreedomOflife</th>\n",
       "      <th>corruption</th>\n",
       "      <th>Generosity</th>\n",
       "      <th>Dystopia_Residual</th>\n",
       "      <th>year</th>\n",
       "      <th>Code</th>\n",
       "      <th>Age-standardized-Rate</th>\n",
       "      <th>index</th>\n",
       "    </tr>\n",
       "  </thead>\n",
       "  <tbody>\n",
       "    <tr>\n",
       "      <th>145</th>\n",
       "      <td>Rwanda</td>\n",
       "      <td>Sub-Saharan Africa</td>\n",
       "      <td>154</td>\n",
       "      <td>3.465</td>\n",
       "      <td>0.03464</td>\n",
       "      <td>0.22208</td>\n",
       "      <td>0.77370</td>\n",
       "      <td>0.42864</td>\n",
       "      <td>0.59201</td>\n",
       "      <td>0.55191</td>\n",
       "      <td>0.22628</td>\n",
       "      <td>0.67042</td>\n",
       "      <td>2015</td>\n",
       "      <td>RWA</td>\n",
       "      <td>11.505365</td>\n",
       "      <td>146</td>\n",
       "    </tr>\n",
       "    <tr>\n",
       "      <th>146</th>\n",
       "      <td>Benin</td>\n",
       "      <td>Sub-Saharan Africa</td>\n",
       "      <td>155</td>\n",
       "      <td>3.340</td>\n",
       "      <td>0.03656</td>\n",
       "      <td>0.28665</td>\n",
       "      <td>0.35386</td>\n",
       "      <td>0.31910</td>\n",
       "      <td>0.48450</td>\n",
       "      <td>0.08010</td>\n",
       "      <td>0.18260</td>\n",
       "      <td>1.63328</td>\n",
       "      <td>2015</td>\n",
       "      <td>BEN</td>\n",
       "      <td>11.666197</td>\n",
       "      <td>20</td>\n",
       "    </tr>\n",
       "    <tr>\n",
       "      <th>147</th>\n",
       "      <td>Syria</td>\n",
       "      <td>Middle East and Northern Africa</td>\n",
       "      <td>156</td>\n",
       "      <td>3.006</td>\n",
       "      <td>0.05015</td>\n",
       "      <td>0.66320</td>\n",
       "      <td>0.47489</td>\n",
       "      <td>0.72193</td>\n",
       "      <td>0.15684</td>\n",
       "      <td>0.18906</td>\n",
       "      <td>0.47179</td>\n",
       "      <td>0.32858</td>\n",
       "      <td>2015</td>\n",
       "      <td>SYR</td>\n",
       "      <td>3.008581</td>\n",
       "      <td>172</td>\n",
       "    </tr>\n",
       "    <tr>\n",
       "      <th>148</th>\n",
       "      <td>Burundi</td>\n",
       "      <td>Sub-Saharan Africa</td>\n",
       "      <td>157</td>\n",
       "      <td>2.905</td>\n",
       "      <td>0.08658</td>\n",
       "      <td>0.01530</td>\n",
       "      <td>0.41587</td>\n",
       "      <td>0.22396</td>\n",
       "      <td>0.11850</td>\n",
       "      <td>0.10062</td>\n",
       "      <td>0.19727</td>\n",
       "      <td>1.83302</td>\n",
       "      <td>2015</td>\n",
       "      <td>BDI</td>\n",
       "      <td>13.094205</td>\n",
       "      <td>30</td>\n",
       "    </tr>\n",
       "    <tr>\n",
       "      <th>149</th>\n",
       "      <td>Togo</td>\n",
       "      <td>Sub-Saharan Africa</td>\n",
       "      <td>158</td>\n",
       "      <td>2.839</td>\n",
       "      <td>0.06727</td>\n",
       "      <td>0.20868</td>\n",
       "      <td>0.13995</td>\n",
       "      <td>0.28443</td>\n",
       "      <td>0.36453</td>\n",
       "      <td>0.10731</td>\n",
       "      <td>0.16681</td>\n",
       "      <td>1.56726</td>\n",
       "      <td>2015</td>\n",
       "      <td>TGO</td>\n",
       "      <td>12.723625</td>\n",
       "      <td>178</td>\n",
       "    </tr>\n",
       "  </tbody>\n",
       "</table>\n",
       "</div>"
      ],
      "text/plain": [
       "     Country                           Region  rank  Score  Standard_Error  \\\n",
       "145   Rwanda               Sub-Saharan Africa   154  3.465         0.03464   \n",
       "146    Benin               Sub-Saharan Africa   155  3.340         0.03656   \n",
       "147    Syria  Middle East and Northern Africa   156  3.006         0.05015   \n",
       "148  Burundi               Sub-Saharan Africa   157  2.905         0.08658   \n",
       "149     Togo               Sub-Saharan Africa   158  2.839         0.06727   \n",
       "\n",
       "         GDP   Family  life_expectancy  FreedomOflife  corruption  Generosity  \\\n",
       "145  0.22208  0.77370          0.42864        0.59201     0.55191     0.22628   \n",
       "146  0.28665  0.35386          0.31910        0.48450     0.08010     0.18260   \n",
       "147  0.66320  0.47489          0.72193        0.15684     0.18906     0.47179   \n",
       "148  0.01530  0.41587          0.22396        0.11850     0.10062     0.19727   \n",
       "149  0.20868  0.13995          0.28443        0.36453     0.10731     0.16681   \n",
       "\n",
       "     Dystopia_Residual  year Code  Age-standardized-Rate  index  \n",
       "145            0.67042  2015  RWA              11.505365    146  \n",
       "146            1.63328  2015  BEN              11.666197     20  \n",
       "147            0.32858  2015  SYR               3.008581    172  \n",
       "148            1.83302  2015  BDI              13.094205     30  \n",
       "149            1.56726  2015  TGO              12.723625    178  "
      ]
     },
     "execution_count": 54,
     "metadata": {},
     "output_type": "execute_result"
    }
   ],
   "source": [
    "full2015.tail()"
   ]
  },
  {
   "cell_type": "markdown",
   "metadata": {},
   "source": [
    "## Relazioni tra le feature"
   ]
  },
  {
   "cell_type": "code",
   "execution_count": 55,
   "metadata": {},
   "outputs": [
    {
     "data": {
      "text/plain": [
       "<AxesSubplot:xlabel='rank'>"
      ]
     },
     "execution_count": 55,
     "metadata": {},
     "output_type": "execute_result"
    },
    {
     "data": {
      "image/png": "[encoded data removed]",
      "text/plain": [
       "<Figure size 432x288 with 1 Axes>"
      ]
     },
     "metadata": {
      "needs_background": "light"
     },
     "output_type": "display_data"
    }
   ],
   "source": [
    "full2015.plot(x=\"rank\",y=\"index\")"
   ]
  },
  {
   "cell_type": "code",
   "execution_count": 56,
   "metadata": {},
   "outputs": [
    {
     "data": {
      "text/plain": [
       "<AxesSubplot:xlabel='rank'>"
      ]
     },
     "execution_count": 56,
     "metadata": {},
     "output_type": "execute_result"
    },
    {
     "data": {
      "image/png": "[encoded data removed]",
      "text/plain": [
       "<Figure size 432x288 with 1 Axes>"
      ]
     },
     "metadata": {
      "needs_background": "light"
     },
     "output_type": "display_data"
    }
   ],
   "source": [
    "full2015.plot(x=\"rank\",y=\"GDP\")"
   ]
  },
  {
   "cell_type": "code",
   "execution_count": null,
   "metadata": {},
   "outputs": [],
   "source": []
  }
 ],
 "metadata": {
  "colab": {
   "collapsed_sections": [],
   "name": "progettoDataAnalysis.ipynb",
   "provenance": []
  },
  "kernelspec": {
   "display_name": "Python 3",
   "language": "python",
   "name": "python3"
  },
  "language_info": {
   "codemirror_mode": {
    "name": "ipython",
    "version": 3
   },
   "file_extension": ".py",
   "mimetype": "text/x-python",
   "name": "python",
   "nbconvert_exporter": "python",
   "pygments_lexer": "ipython3",
   "version": "3.8.5"
  }
 },
 "nbformat": 4,
 "nbformat_minor": 4
}
